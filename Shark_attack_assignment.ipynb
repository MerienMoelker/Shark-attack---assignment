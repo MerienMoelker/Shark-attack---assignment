{
  "nbformat": 4,
  "nbformat_minor": 0,
  "metadata": {
    "colab": {
      "provenance": []
    },
    "kernelspec": {
      "name": "python3",
      "display_name": "Python 3"
    },
    "language_info": {
      "name": "python"
    }
  },
  "cells": [
    {
      "cell_type": "code",
      "execution_count": 438,
      "metadata": {
        "id": "HCkm5RrRoFk6",
        "colab": {
          "base_uri": "https://localhost:8080/"
        },
        "outputId": "d5cf0ddb-b607-44e5-b49e-6b77cdc73c18"
      },
      "outputs": [
        {
          "output_type": "stream",
          "name": "stdout",
          "text": [
            "The google.colab.data_table extension is already loaded. To reload it, use:\n",
            "  %reload_ext google.colab.data_table\n"
          ]
        }
      ],
      "source": [
        "import pandas as pd\n",
        "import numpy as np\n",
        "import matplotlib as mlt\n",
        "import matplotlib.pyplot as plt\n",
        "import missingno as msno\n",
        "%load_ext google.colab.data_table"
      ]
    },
    {
      "cell_type": "code",
      "source": [
        "def get_data():\n",
        "  df = pd.read_csv('https://raw.githubusercontent.com/MerienMoelker/Shark-attack---assignment/de7abb6d91e705a3875bb3d617a05ee774b11108/attacks.csv',  encoding='cp1252')\n",
        "  #df.loc[df['Case Number'] == '0', 'Case Number'] = np.nan\n",
        "  df['Case Number'].replace({'0': np.nan, 'xx': np.nan}, inplace=True)\n",
        "  df.dropna(subset=['Case Number'], inplace=True)\n",
        "  df.drop(columns=[ 'pdf', 'href formula', 'href','Case Number.1', 'Case Number.2', 'original order', 'Unnamed: 22',\n",
        "       'Unnamed: 23'], inplace=True)\n",
        "  df.rename(columns={'Type':'Provoked'}, inplace=True)\n",
        "  return df"
      ],
      "metadata": {
        "id": "OFKE5ClL0_ZY"
      },
      "execution_count": 439,
      "outputs": []
    },
    {
      "cell_type": "markdown",
      "source": [
        "1. what are the most dangerous types of sharks to humans?\n",
        "\n",
        "so i need to clean up the species and fatal  columns.\n",
        "after that i will make a horizontal bargraph for the number of attacks for the top 5 and for the most fatal attacks i will make a graph "
      ],
      "metadata": {
        "id": "5gzNGw2UGV1P"
      }
    },
    {
      "cell_type": "code",
      "source": [
        "df = get_data()"
      ],
      "metadata": {
        "id": "EuWymvtXvSN6"
      },
      "execution_count": 440,
      "outputs": []
    },
    {
      "cell_type": "code",
      "source": [
        "df['Species '] = df['Species '].replace({np.nan:' ', None:' '})\n",
        "\n",
        "weird_carectars = ['\"', \"'\", '[', ']', '1', '2', '3', '4', '5', '6', '7', '8', '9', '0', '-', '_', '.', '+', ',','(' , ')', '?']\n",
        "def remove_weird_caracters(string):\n",
        "  for car in weird_carectars:\n",
        "    if car in string:\n",
        "      count = string.count(car)\n",
        "      for i in range(0, count):\n",
        "        place = string.find(car)\n",
        "        string = string.replace(string[place], '')       \n",
        "  return string\n",
        "\n",
        "def find_species(string):\n",
        "  if 'shark' in string:\n",
        "    shark = string.find('shark')\n",
        "    string = string[0:shark+len('shark')]\n",
        "    cut_place = string.count(' ') - 1\n",
        "    place = -1\n",
        "    for i in range(0, cut_place):\n",
        "      place = string.find(' ', place+1)\n",
        "    string = string[place +1:shark+len('shark')]\n",
        "    if ' ' not in string:\n",
        "      slice_point =string.find('shark')\n",
        "      first = string[0:slice_point]\n",
        "      second = string[slice_point:]\n",
        "      string = f'{first} {second}'\n",
        "  return string \n",
        "\n",
        "not_a_shark = ['shark', ' shark', 'm shark', ' ']\n",
        "def remove_not_a_shark(string):       \n",
        "  if 'shark' not in string:\n",
        "    string = None\n",
        "  if string in not_a_shark:\n",
        "    string = None\n",
        "  return string\n",
        "\n",
        "def find_shark_species(string):\n",
        "  string = string.lower()\n",
        "  string =  remove_weird_caracters(string)\n",
        "  string = find_species(string)\n",
        "  string = remove_not_a_shark(string)\n",
        "  return string\n",
        "\n",
        "#df['Species '] = df['Species '].str.lower()\n",
        "#df['Species '] = df['Species '].transform(remove_weird_caracters)\n",
        "#df['Species '] = df['Species '].transform(find_species)\n",
        "#df['Species '] = df['Species '].transform(remove_not_a_shark)\n",
        "df['Species '] = df['Species '].transform(find_shark_species)\n",
        "\n",
        "\n",
        "#fatal\n",
        "#display(df['Fatal (Y/N)'].unique())\n",
        "df['Fatal (Y/N)'] = df['Fatal (Y/N)'].replace({'N':False, 'Y':True, np.nan:False,'M':False, 'UNKNOWN':False, '2017':False, ' N':False, 'N ':False, 'y':True})"
      ],
      "metadata": {
        "id": "atWYHKmg3Jgz"
      },
      "execution_count": 441,
      "outputs": []
    },
    {
      "cell_type": "code",
      "source": [
        "shark_atacks = df['Species '].value_counts().rename_axis('Species ').reset_index(name='counts')\n",
        "\n",
        "def nr_fatal_incedents(row):\n",
        "  filter = df[df['Species '] == row['Species ']]\n",
        "  return  filter['Fatal (Y/N)'].sum()\n",
        "\n",
        "shark_atacks['nr_fatal_incedents'] = shark_atacks.apply(nr_fatal_incedents, axis=1)"
      ],
      "metadata": {
        "id": "yhRvaq8nX9jT"
      },
      "execution_count": 442,
      "outputs": []
    },
    {
      "cell_type": "code",
      "source": [
        "fig, ax1 = plt.subplots()\n",
        "\n",
        "x1 = shark_atacks.loc[0:4, 'Species ']\n",
        "y1 = shark_atacks.loc[0:4, 'counts']\n",
        "\n",
        "\n",
        "ax1.barh(x1,y1)\n",
        "ax1.set(xlabel='shark species', ylabel='number of shark atacks', title='number of shark atacks per species')\n",
        "ax1.grid(axis='x')\n",
        "fig, ax2 = plt.subplots()\n",
        "\n",
        "x2 = shark_atacks.sort_values(by=['nr_fatal_incedents'], ascending=False).iloc[0:5]['Species ']\n",
        "y2 = shark_atacks.sort_values(by=['nr_fatal_incedents'], ascending=False).iloc[0:5]['nr_fatal_incedents']\n",
        "\n",
        "ax2.barh(x2,y2)\n",
        "ax2.set(xlabel='shark species', ylabel='number of fatal shark atacks', title='number of fatal shark atacks per species')\n",
        "ax2.grid(axis='x')"
      ],
      "metadata": {
        "colab": {
          "base_uri": "https://localhost:8080/",
          "height": 573
        },
        "id": "fTRwSzIsYKs5",
        "outputId": "4af7f44f-d5bf-457f-b9a2-bec5946398ca"
      },
      "execution_count": 443,
      "outputs": [
        {
          "output_type": "display_data",
          "data": {
            "text/plain": [
              "<Figure size 432x288 with 1 Axes>"
            ],
            "image/png": "[encoded data removed]"
          },
          "metadata": {
            "needs_background": "light"
          }
        },
        {
          "output_type": "display_data",
          "data": {
            "text/plain": [
              "<Figure size 432x288 with 1 Axes>"
            ],
            "image/png": "[encoded data removed]"
          },
          "metadata": {
            "needs_background": "light"
          }
        }
      ]
    },
    {
      "cell_type": "markdown",
      "source": [
        "as you can see the most dangeous sharks are the white shark, tiger shark and the bull shark. beacous thay have the most atacks and fatal atacks. for these graphs i did not concider the human influece and the number of sharks that come into contact with humans. and the population of a shark species."
      ],
      "metadata": {
        "id": "9-NvMhw8PMnG"
      }
    },
    {
      "cell_type": "markdown",
      "source": [
        "2. are children more likely to be attacked by sharks?\n",
        "\n",
        "i will clean up the Age column and make a graph that shows the age that gets atacked the most"
      ],
      "metadata": {
        "id": "qO_-G3HGQko9"
      }
    },
    {
      "cell_type": "code",
      "source": [
        "df = get_data()\n",
        "ages = []\n",
        "def convert_age(age):\n",
        "  try:\n",
        "    age = float(age)\n",
        "  except:\n",
        "    if age not in ages:\n",
        "      ages.append(age)\n",
        "  return age\n",
        "\n",
        "df['Age'] = df['Age'].transform({'Age':convert_age})\n",
        "\n",
        "print(ages)\n"
      ],
      "metadata": {
        "colab": {
          "base_uri": "https://localhost:8080/"
        },
        "id": "i87utQ9J2-oG",
        "outputId": "7dca3a16-8cb7-473d-9565-13d000ea8329"
      },
      "execution_count": 444,
      "outputs": [
        {
          "output_type": "stream",
          "name": "stdout",
          "text": [
            "['40s', '20s', 'Teen', '60s', '18 months', '30s', '50s', 'teen', '28 & 26', '18 or 20', '12 or 13', '46 & 34', '28, 23 & 30', 'Teens', '36 & 26', '8 or 10', '\\xa0 ', ' ', '30 or 36', '6½', '21 & ?', '33 or 37', 'mid-30s', '23 & 20', '7      &    31', '20?', \"60's\", '32 & 30', '16 to 18', 'Elderly', 'mid-20s', 'Ca. 33', '21 or 26', '>50', '18 to 22', 'adult', '9 & 12', '? & 19', '9 months', '25 to 35', '23 & 26', '(adult)', '33 & 37', '25 or 28', '37, 67, 35, 27,  ? & 27', '21, 34,24 & 35', '30 & 32', '50 & 30', '17 & 35', 'X', '\"middle-age\"', '13 or 18', '34 & 19', '33 & 26', '2 to 3 months', 'MAKE LINE GREEN', '\"young\"', '7 or 8', '17 & 16', 'F', 'Both 11', '9 or 10', 'young', '36 & 23', '  ', 'A.M.', '?    &   14', '10 or 12', '31 or 33', '2½', '13 or 14']\n"
          ]
        }
      ]
    },
    {
      "cell_type": "code",
      "source": [
        "df['Age'] = df['Age'].replace({'40s':45, '20s':25, 'Teen':15, '60s':65, '18 months':2, '30s':35, '50s':55, 'teen':15, '28 & 26':27, '18 or 20':19, \n",
        "                               '12 or 13':12, '46 & 34':46, '28, 23 & 30':28, 'Teens':15, '36 & 26':31, '8 or 10':9, '\\xa0 ':np.nan, ' ':np.nan, '30 or 36':33, '6½':6, '21 & ?':21, \n",
        "                               '33 or 37':35, 'mid-30s':35, '23 & 20':23, '7      &    31':7, '20?':20, \"60's\":65, '32 & 30':31, '16 to 18':17, 'Elderly':75, \n",
        "                               'mid-20s':25, 'Ca. 33':33, '21 or 26':23, '>50':55, '18 to 22':20, 'adult':40, '9 & 12':9, '? & 19':19, '9 months':1, '25 to 35':30, \n",
        "                               '23 & 26':23, '(adult)':40, '33 & 37':33, '25 or 28':26, '37, 67, 35, 27,  ? & 27':35, '21, 34,24 & 35':30, '30 & 32':30, '50 & 30':40, '17 & 35':17, 'X':np.nan, '\"middle-age\"':37, \n",
        "                               '13 or 18':15, '34 & 19':34, '33 & 26':33, '2 to 3 months':1, 'MAKE LINE GREEN':np.nan, '\"young\"':10, '7 or 8':7, '17 & 16':17, 'F':np.nan, 'Both 11':11, '9 or 10':9, 'young':10, \n",
        "                               '36 & 23':33, '  ':np.nan, 'A.M.':np.nan, '?    &   14':14, '10 or 12':11, '31 or 33':32, '2½':2, '13 or 14':13, None:np.nan})\n",
        "df = df.astype({'Age':'float'})"
      ],
      "metadata": {
        "id": "YHB7xqL3BOy6"
      },
      "execution_count": 445,
      "outputs": []
    },
    {
      "cell_type": "code",
      "source": [
        "attacks_per_age = df['Age'].value_counts().rename_axis('Age').reset_index(name='counts').sort_values(by=['Age'])\n",
        "attacks_per_age.sort_values"
      ],
      "metadata": {
        "id": "KODr8j3d3j1M",
        "colab": {
          "base_uri": "https://localhost:8080/"
        },
        "outputId": "0286fefd-a750-4102-ae0e-5f368ad290cb"
      },
      "execution_count": 446,
      "outputs": [
        {
          "output_type": "execute_result",
          "data": {
            "text/plain": [
              "<bound method DataFrame.sort_values of      Age  counts\n",
              "65   1.0       4\n",
              "73   2.0       2\n",
              "63   3.0       5\n",
              "60   5.0       7\n",
              "50   6.0      15\n",
              "..   ...     ...\n",
              "79  81.0       1\n",
              "80  82.0       1\n",
              "75  84.0       1\n",
              "74  86.0       1\n",
              "76  87.0       1\n",
              "\n",
              "[81 rows x 2 columns]>"
            ]
          },
          "metadata": {},
          "execution_count": 446
        }
      ]
    },
    {
      "cell_type": "code",
      "source": [
        "fig, ax = plt.subplots()\n",
        "\n",
        "x = attacks_per_age.loc[:,'Age']\n",
        "y = attacks_per_age.loc[:,'counts']\n",
        "\n",
        "\n",
        "ax.plot(x,y)\n",
        "ax.grid()\n",
        "ax.set(xlabel='age', ylabel='number of shark atacks', title='attacks per age')"
      ],
      "metadata": {
        "id": "8o3JYXDwgkwP",
        "colab": {
          "base_uri": "https://localhost:8080/",
          "height": 347
        },
        "outputId": "72f8663a-ac81-4fcc-a4f6-f342b86c3bf3"
      },
      "execution_count": 447,
      "outputs": [
        {
          "output_type": "execute_result",
          "data": {
            "text/plain": [
              "[Text(0, 0.5, 'number of shark atacks'),\n",
              " Text(0.5, 0, 'age'),\n",
              " Text(0.5, 1.0, 'attacks per age')]"
            ]
          },
          "metadata": {},
          "execution_count": 447
        },
        {
          "output_type": "display_data",
          "data": {
            "text/plain": [
              "<Figure size 432x288 with 1 Axes>"
            ],
            "image/png": "[encoded data removed]"
          },
          "metadata": {
            "needs_background": "light"
          }
        }
      ]
    },
    {
      "cell_type": "markdown",
      "source": [
        "teeagers are more likly to be atacked by sharks"
      ],
      "metadata": {
        "id": "vf250FJroLSx"
      }
    },
    {
      "cell_type": "markdown",
      "source": [
        "3. are shark attacks where sharks were provoked more or less dangerous?\n",
        "\n",
        "i will clean yp the provoked column and make it True or False. Then i will look at what percentage of attacks was fatal."
      ],
      "metadata": {
        "id": "nRmtn9CPcNub"
      }
    },
    {
      "cell_type": "code",
      "source": [
        "df = get_data()\n",
        "df['Fatal (Y/N)'] = df['Fatal (Y/N)'].replace({'N':False, 'Y':True, np.nan:False,'M':False, 'UNKNOWN':False, '2017':False, ' N':False, 'N ':False, 'y':True})\n",
        "display(df['Provoked'].unique())\n",
        "display(df['Provoked'].value_counts())"
      ],
      "metadata": {
        "colab": {
          "base_uri": "https://localhost:8080/",
          "height": 208
        },
        "id": "YyJSoAJHcN8i",
        "outputId": "2476da6e-ccb4-4b81-8e6f-d818a7be9ef4"
      },
      "execution_count": 448,
      "outputs": [
        {
          "output_type": "display_data",
          "data": {
            "text/plain": [
              "array(['Boating', 'Unprovoked', 'Invalid', 'Provoked', 'Questionable',\n",
              "       'Sea Disaster', nan, 'Boat', 'Boatomg'], dtype=object)"
            ]
          },
          "metadata": {}
        },
        {
          "output_type": "display_data",
          "data": {
            "text/plain": [
              "Unprovoked      4595\n",
              "Provoked         573\n",
              "Invalid          547\n",
              "Sea Disaster     239\n",
              "Boating          203\n",
              "Boat             137\n",
              "Questionable       2\n",
              "Boatomg            1\n",
              "Name: Provoked, dtype: int64"
            ]
          },
          "metadata": {}
        }
      ]
    },
    {
      "cell_type": "code",
      "source": [
        "provoked_attacks = df['Provoked'].value_counts().rename_axis('Provoked').reset_index(name='counts')\n",
        "\n",
        "def nr_fatal_incedents(row):\n",
        "  filter = df[df['Provoked'] == row['Provoked']]\n",
        "  return  (filter['Fatal (Y/N)'].sum() / row['counts']) * 100\n",
        "\n",
        "provoked_attacks['percentage_fatal'] = provoked_attacks.apply(nr_fatal_incedents, axis=1)"
      ],
      "metadata": {
        "id": "prZNhg7ckUKD"
      },
      "execution_count": 449,
      "outputs": []
    },
    {
      "cell_type": "code",
      "source": [
        "df['Provoked'] = df['Provoked'].replace({'Boating':False, 'Unprovoked':False, 'Invalid':False, 'Questionable':False,\n",
        "       'Sea Disaster':False, np.nan:False, 'Boat':False, 'Boatomg':False, None:False, 'Provoked':True})"
      ],
      "metadata": {
        "id": "2-w76sXbhRPX"
      },
      "execution_count": 450,
      "outputs": []
    },
    {
      "cell_type": "code",
      "source": [
        "provoked_attacks = df['Provoked'].value_counts().rename_axis('Provoked').reset_index(name='counts')\n",
        "\n",
        "def nr_fatal_incedents(row):\n",
        "  filter = df[df['Provoked'] == row['Provoked']]\n",
        "  return  (filter['Fatal (Y/N)'].sum() / row['counts']) * 100\n",
        "\n",
        "provoked_attacks['percentage_fatal'] = provoked_attacks.apply(nr_fatal_incedents, axis=1)"
      ],
      "metadata": {
        "id": "K0azoGU2cOCa"
      },
      "execution_count": 451,
      "outputs": []
    },
    {
      "cell_type": "code",
      "source": [
        "unprovoked = provoked_attacks.loc[0, 'percentage_fatal']\n",
        "provoked = provoked_attacks.loc[1, 'percentage_fatal']\n",
        "print(f'the percentage of fatal unprovoked attacks is: {unprovoked}\\nthe percentage of fatal provoked attacks is: {provoked}')"
      ],
      "metadata": {
        "colab": {
          "base_uri": "https://localhost:8080/"
        },
        "id": "Ag7W3m9AcOFZ",
        "outputId": "158bd98e-16ba-422b-d42d-855256edb976"
      },
      "execution_count": 452,
      "outputs": [
        {
          "output_type": "stream",
          "name": "stdout",
          "text": [
            "the percentage of fatal unprovoked attacks is: 23.917597765363126\n",
            "the percentage of fatal provoked attacks is: 3.315881326352531\n"
          ]
        }
      ]
    },
    {
      "cell_type": "markdown",
      "source": [
        "so provoked attacks are less dangerous"
      ],
      "metadata": {
        "id": "LjmyhZ3vkBUW"
      }
    },
    {
      "cell_type": "markdown",
      "source": [
        "4. are certain activities more likely to result in a shark attack?\n",
        "\n",
        "i need to clean up the activity column and then show with what activity you are most likely to be attacked"
      ],
      "metadata": {
        "id": "sHDyU9mklRBc"
      }
    },
    {
      "cell_type": "code",
      "source": [
        "df = get_data()\n",
        "df['Activity'] = df['Activity'].replace(np.nan, None)\n",
        "df['Activity'] = df['Activity'].replace('.', None)\n",
        "\n",
        "activities = []\n",
        "def select_activities(column):\n",
        "  for act in column.unique().tolist():\n",
        "    if ' ' not in act:\n",
        "      activities.append(act)\n",
        "\n",
        "def transform_activities(activity):\n",
        "  for act in activities:\n",
        "    if act in activity:\n",
        "      activity = act\n",
        "  return activity\n",
        "      \n",
        "select_activities(df['Activity'])\n",
        "df['Activity'] = df['Activity'].transform(transform_activities)"
      ],
      "metadata": {
        "id": "LKaCz60WgYNb"
      },
      "execution_count": 453,
      "outputs": []
    },
    {
      "cell_type": "code",
      "source": [
        "activities_count = df['Activity'].value_counts(dropna=False).rename_axis('Activity').reset_index(name='counts')"
      ],
      "metadata": {
        "id": "-M_OSTM-lt2K"
      },
      "execution_count": 454,
      "outputs": []
    },
    {
      "cell_type": "code",
      "source": [
        "fig, ax = plt.subplots()\n",
        "\n",
        "x = activities_count.loc[0:9, 'Activity']\n",
        "y = activities_count.loc[0:9, 'counts']\n",
        "\n",
        "ax.barh(x,y)\n",
        "ax.set(xlabel='number of attacks', ylabel='activities', title='number of shark attacks for most dangerous activities')\n",
        "ax.grid(axis='x')\n"
      ],
      "metadata": {
        "colab": {
          "base_uri": "https://localhost:8080/",
          "height": 295
        },
        "id": "lVGKfp2vsXTo",
        "outputId": "8f667260-7b57-408c-eea1-87b579acb805"
      },
      "execution_count": 455,
      "outputs": [
        {
          "output_type": "display_data",
          "data": {
            "text/plain": [
              "<Figure size 432x288 with 1 Axes>"
            ],
            "image/png": "[encoded data removed]"
          },
          "metadata": {
            "needs_background": "light"
          }
        }
      ]
    },
    {
      "cell_type": "markdown",
      "source": [
        "as you can see the most attacks are on peaple who are swimming or surfing"
      ],
      "metadata": {
        "id": "xx3ab5aNG87b"
      }
    }
  ]
}